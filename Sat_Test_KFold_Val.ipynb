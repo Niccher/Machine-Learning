{
  "nbformat": 4,
  "nbformat_minor": 0,
  "metadata": {
    "colab": {
      "name": "Sat_Test_KFold_Val",
      "provenance": []
    },
    "kernelspec": {
      "name": "python3",
      "display_name": "Python 3"
    },
    "language_info": {
      "name": "python"
    }
  },
  "cells": [
    {
      "cell_type": "code",
      "execution_count": null,
      "metadata": {
        "id": "mntV5jJ5lfm1"
      },
      "outputs": [],
      "source": [
        "from sklearn.ensemble import BaggingClassifier\n",
        "from sklearn.datasets import load_digits"
      ]
    },
    {
      "cell_type": "code",
      "source": [
        "digits = load_digits()"
      ],
      "metadata": {
        "id": "Mftdtc3AwuHB"
      },
      "execution_count": null,
      "outputs": []
    },
    {
      "cell_type": "code",
      "source": [
        "from sklearn.model_selection import train_test_split\n",
        "\n",
        "x_train, x_test, y_train, y_test = train_test_split(digits.data, digits.target, test_size=0.2, random_state=20)"
      ],
      "metadata": {
        "id": "jRa1SPESwz9V"
      },
      "execution_count": null,
      "outputs": []
    },
    {
      "cell_type": "code",
      "source": [
        "print(\"x_train \", x_train.shape)\n",
        "print(\"x_test \", x_test.shape)\n",
        "print(\"y_train \", y_train.shape)\n",
        "print(\"y_test \", y_test.shape)\n"
      ],
      "metadata": {
        "colab": {
          "base_uri": "https://localhost:8080/"
        },
        "id": "bqVwAh2ly8RQ",
        "outputId": "81ee2efb-208a-45cf-d09c-1b5e8e658fa0"
      },
      "execution_count": null,
      "outputs": [
        {
          "output_type": "stream",
          "name": "stdout",
          "text": [
            "x_train  (1437, 64)\n",
            "x_test  (360, 64)\n",
            "y_train  (1437,)\n",
            "y_test  (360,)\n"
          ]
        }
      ]
    },
    {
      "cell_type": "code",
      "source": [
        "from sklearn.model_selection import KFold\n",
        "\n",
        "kfold = KFold(n_splits=3, shuffle=False, random_state=None)"
      ],
      "metadata": {
        "id": "cCj81odSz5Hg"
      },
      "execution_count": null,
      "outputs": []
    },
    {
      "cell_type": "code",
      "source": [
        "def mod_score(model, x_training, x_testing, y_training, y_testing):\n",
        "  model.fit(x_training, y_training)\n",
        "  scored = model.score(x_testing, y_testing)\n",
        "  return scored"
      ],
      "metadata": {
        "id": "uxXLfbfH1VUi"
      },
      "execution_count": null,
      "outputs": []
    },
    {
      "cell_type": "code",
      "source": [
        ""
      ],
      "metadata": {
        "id": "DZA2c77XD0NM"
      },
      "execution_count": null,
      "outputs": []
    },
    {
      "cell_type": "code",
      "source": [
        "from sklearn.model_selection import StratifiedKFold\n",
        "\n",
        "sfold = StratifiedKFold(n_splits=3)"
      ],
      "metadata": {
        "id": "DbOlsled5jLE"
      },
      "execution_count": null,
      "outputs": []
    },
    {
      "cell_type": "code",
      "source": [
        "from sklearn.linear_model import LinearRegression\n",
        "from sklearn.svm import SVC\n",
        "from sklearn.ensemble import RandomForestClassifier"
      ],
      "metadata": {
        "id": "kbEtDTFyAPmy"
      },
      "execution_count": null,
      "outputs": []
    },
    {
      "cell_type": "code",
      "source": [
        "for train_index, test_index in kfold.split(digits.data):\n",
        "  x_train_kf, x_test_kf = digits.data[train_index], digits.data[test_index]\n",
        "  y_train_kf, y_test_kf = digits.target[train_index], digits.target[test_index]\n",
        "\n",
        "  print(\"Linear Regression KF Scored \", mod_score(LinearRegression() ,x_train_kf, x_test_kf, y_train_kf, y_test_kf))\n",
        "  print(\"SupportVector KF Scored \", mod_score(SVC() ,x_train_kf, x_test_kf, y_train_kf, y_test_kf))\n",
        "  print(\"RandomForestClassifier KF Scored \", mod_score(RandomForestClassifier() ,x_train_kf, x_test_kf, y_train_kf, y_test_kf))\n",
        "  print (\"\")"
      ],
      "metadata": {
        "colab": {
          "base_uri": "https://localhost:8080/"
        },
        "id": "MX9RsbPM6HaJ",
        "outputId": "6e42fe3d-a4de-47bc-b45e-1f98c5d8a2e7"
      },
      "execution_count": null,
      "outputs": [
        {
          "output_type": "stream",
          "name": "stdout",
          "text": [
            "Linear Regression KF Scored  0.5210503111571503\n",
            "SupportVector KF Scored  0.9666110183639399\n",
            "RandomForestClassifier KF Scored  0.9382303839732888\n",
            "\n",
            "Linear Regression KF Scored  0.5681424219493625\n",
            "SupportVector KF Scored  0.9816360601001669\n",
            "RandomForestClassifier KF Scored  0.9565943238731218\n",
            "\n",
            "Linear Regression KF Scored  0.41943985059688516\n",
            "SupportVector KF Scored  0.9549248747913188\n",
            "RandomForestClassifier KF Scored  0.9265442404006677\n",
            "\n"
          ]
        }
      ]
    },
    {
      "cell_type": "code",
      "source": [
        "from sklearn.model_selection import cross_val_score\n",
        "\n",
        "cvs_lr = cross_val_score(LinearRegression(), digits.data, digits.target, cv=5)\n",
        "cvs_svc = cross_val_score(SVC(), digits.data, digits.target, cv=5)\n",
        "cvs_rfc = cross_val_score(RandomForestClassifier(n_estimators=50), digits.data, digits.target, cv=5)\n",
        "\n",
        "print(\"Linear Regression cvs Scored \", cvs_lr)\n",
        "print(\"SupportVector cvs Scored \", cvs_svc)\n",
        "print(\"RandomForestClassifier cvs Scored \", cvs_rfc)"
      ],
      "metadata": {
        "colab": {
          "base_uri": "https://localhost:8080/"
        },
        "id": "JxiqdqZr6HC-",
        "outputId": "a7c1d532-1790-4bb7-9b90-0cbabf33cead"
      },
      "execution_count": null,
      "outputs": [
        {
          "output_type": "stream",
          "name": "stdout",
          "text": [
            "Linear Regression cvs Scored  [0.48346048 0.5583603  0.57534522 0.5056632  0.40995457]\n",
            "SupportVector cvs Scored  [0.96111111 0.94444444 0.98328691 0.98885794 0.93871866]\n",
            "RandomForestClassifier cvs Scored  [0.92222222 0.90277778 0.95264624 0.95543175 0.93593315]\n"
          ]
        }
      ]
    },
    {
      "cell_type": "code",
      "source": [
        ""
      ],
      "metadata": {
        "id": "-do6swd86GzU"
      },
      "execution_count": null,
      "outputs": []
    }
  ]
}