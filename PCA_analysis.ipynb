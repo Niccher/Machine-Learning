{
  "nbformat": 4,
  "nbformat_minor": 0,
  "metadata": {
    "colab": {
      "name": "PCA analysis.ipynb",
      "provenance": []
    },
    "kernelspec": {
      "name": "python3",
      "display_name": "Python 3"
    },
    "language_info": {
      "name": "python"
    }
  },
  "cells": [
    {
      "cell_type": "code",
      "execution_count": null,
      "metadata": {
        "id": "aX9P2YVyJ5EJ"
      },
      "outputs": [],
      "source": [
        "import pandas as pd\n",
        "from sklearn.datasets import load_digits"
      ]
    },
    {
      "cell_type": "code",
      "source": [
        "#dir(load_digits)\n",
        "datase = load_digits()\n",
        "dir(datase)"
      ],
      "metadata": {
        "colab": {
          "base_uri": "https://localhost:8080/"
        },
        "id": "wGBF8b3zKPnZ",
        "outputId": "43a972d5-e419-4be8-8fb9-50d4efde1012"
      },
      "execution_count": null,
      "outputs": [
        {
          "output_type": "execute_result",
          "data": {
            "text/plain": [
              "['DESCR', 'data', 'feature_names', 'frame', 'images', 'target', 'target_names']"
            ]
          },
          "metadata": {},
          "execution_count": 3
        }
      ]
    },
    {
      "cell_type": "code",
      "source": [
        "datase.data[0]"
      ],
      "metadata": {
        "colab": {
          "base_uri": "https://localhost:8080/"
        },
        "id": "XFVcOV3MKPur",
        "outputId": "6ff52305-484d-4359-a031-1e04eccc677b"
      },
      "execution_count": null,
      "outputs": [
        {
          "output_type": "execute_result",
          "data": {
            "text/plain": [
              "array([ 0.,  0.,  5., 13.,  9.,  1.,  0.,  0.,  0.,  0., 13., 15., 10.,\n",
              "       15.,  5.,  0.,  0.,  3., 15.,  2.,  0., 11.,  8.,  0.,  0.,  4.,\n",
              "       12.,  0.,  0.,  8.,  8.,  0.,  0.,  5.,  8.,  0.,  0.,  9.,  8.,\n",
              "        0.,  0.,  4., 11.,  0.,  1., 12.,  7.,  0.,  0.,  2., 14.,  5.,\n",
              "       10., 12.,  0.,  0.,  0.,  0.,  6., 13., 10.,  0.,  0.,  0.])"
            ]
          },
          "metadata": {},
          "execution_count": 7
        }
      ]
    },
    {
      "cell_type": "code",
      "source": [
        "x = datase.data\n",
        "y = datase.target\n",
        "x.shape\n",
        "print(\"x.shape\", x.shape)\n",
        "print(\"y.shape\", y.shape)"
      ],
      "metadata": {
        "colab": {
          "base_uri": "https://localhost:8080/"
        },
        "id": "RUNIjplOLqvm",
        "outputId": "c607abf3-e37f-45cf-e984-1057d4422673"
      },
      "execution_count": null,
      "outputs": [
        {
          "output_type": "stream",
          "name": "stdout",
          "text": [
            "x.shape (1797, 64)\n",
            "y.shape (1797,)\n"
          ]
        },
        {
          "output_type": "execute_result",
          "data": {
            "text/plain": [
              "(1797,)"
            ]
          },
          "metadata": {},
          "execution_count": 10
        }
      ]
    },
    {
      "cell_type": "code",
      "source": [
        "from sklearn.preprocessing import StandardScaler\n",
        "\n",
        "scalr = StandardScaler()\n",
        "\n",
        "x_scaled = scalr.fit_transform(x)\n",
        "\n",
        "print(\"x.x_scaled\", x_scaled.shape)"
      ],
      "metadata": {
        "colab": {
          "base_uri": "https://localhost:8080/"
        },
        "id": "kmnSRkn7Lq1R",
        "outputId": "8c4b23d4-60c7-4ff5-fb0d-6fc38324fd0e"
      },
      "execution_count": null,
      "outputs": [
        {
          "output_type": "stream",
          "name": "stdout",
          "text": [
            "x.x_scaled (1797, 64)\n"
          ]
        }
      ]
    },
    {
      "cell_type": "code",
      "source": [
        "from sklearn.model_selection import train_test_split\n",
        "\n",
        "x_train, x_test, y_train, y_test = train_test_split(x_scaled, y, test_size=0.8)"
      ],
      "metadata": {
        "id": "AjKU-nfILq7b"
      },
      "execution_count": null,
      "outputs": []
    },
    {
      "cell_type": "code",
      "source": [
        "from sklearn.linear_model import LogisticRegression\n",
        "\n",
        "ln = LogisticRegression()\n",
        "ln.fit(x_train, y_train)\n",
        "ln.score(x_test,y_test)"
      ],
      "metadata": {
        "colab": {
          "base_uri": "https://localhost:8080/"
        },
        "id": "TRn3C9vJKPy3",
        "outputId": "3e5a6818-ceb9-42d8-fbbb-268d7c499a8f"
      },
      "execution_count": null,
      "outputs": [
        {
          "output_type": "execute_result",
          "data": {
            "text/plain": [
              "0.9506258692628651"
            ]
          },
          "metadata": {},
          "execution_count": 17
        }
      ]
    },
    {
      "cell_type": "code",
      "source": [
        "from sklearn.decomposition import PCA\n",
        "\n",
        "pca = PCA(0.98)\n",
        "\n",
        "x_data = pca.fit_transform(x_scaled)\n",
        "x_data.shape"
      ],
      "metadata": {
        "colab": {
          "base_uri": "https://localhost:8080/"
        },
        "id": "3sR-M3X-KP3q",
        "outputId": "a8d2c1c7-fddb-4981-b306-819a03e0600e"
      },
      "execution_count": null,
      "outputs": [
        {
          "output_type": "execute_result",
          "data": {
            "text/plain": [
              "(1797, 49)"
            ]
          },
          "metadata": {},
          "execution_count": 23
        }
      ]
    },
    {
      "cell_type": "code",
      "source": [
        "x_train1, x_test1, y_train1, y_test1 = train_test_split(x_data, y, test_size=0.8)\n",
        "\n",
        "ln2 = LogisticRegression(max_iter=1000)\n",
        "ln2.fit(x_train1, y_train1)\n",
        "ln2.score(x_test1,y_test1)"
      ],
      "metadata": {
        "colab": {
          "base_uri": "https://localhost:8080/"
        },
        "id": "aiQoD0vjO4bz",
        "outputId": "00a9b787-a7fd-43a0-9b92-dc25121db00d"
      },
      "execution_count": null,
      "outputs": [
        {
          "output_type": "execute_result",
          "data": {
            "text/plain": [
              "0.9367176634214186"
            ]
          },
          "metadata": {},
          "execution_count": 26
        }
      ]
    },
    {
      "cell_type": "code",
      "source": [
        "pca.explained_variance_ratio_"
      ],
      "metadata": {
        "colab": {
          "base_uri": "https://localhost:8080/"
        },
        "id": "sb-YgvLpPRtL",
        "outputId": "42e67885-c44e-4a7e-9e6c-9ab0359c4d1e"
      },
      "execution_count": null,
      "outputs": [
        {
          "output_type": "execute_result",
          "data": {
            "text/plain": [
              "array([0.12033916, 0.09561054, 0.08444415, 0.06498408, 0.04860155,\n",
              "       0.0421412 , 0.03942083, 0.03389381, 0.02998221, 0.02932003,\n",
              "       0.02781805, 0.02577055, 0.02275303, 0.0222718 , 0.02165229,\n",
              "       0.01914167, 0.01775547, 0.01638069, 0.0159646 , 0.01489191,\n",
              "       0.0134797 , 0.01271931, 0.01165837, 0.01057647, 0.00975316,\n",
              "       0.00944559, 0.00863014, 0.00836643, 0.00797693, 0.00746471,\n",
              "       0.00725582, 0.00691911, 0.00653909, 0.00640793, 0.00591384,\n",
              "       0.00571162, 0.00523637, 0.00481808, 0.00453719, 0.00423163,\n",
              "       0.00406053, 0.00397085, 0.00356493, 0.00340787, 0.00327835,\n",
              "       0.00311032, 0.00288575, 0.00276489, 0.00259175])"
            ]
          },
          "metadata": {},
          "execution_count": 25
        }
      ]
    }
  ]
}