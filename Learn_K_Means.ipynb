{
  "nbformat": 4,
  "nbformat_minor": 0,
  "metadata": {
    "colab": {
      "name": "Learn K-Means.ipynb",
      "provenance": []
    },
    "kernelspec": {
      "name": "python3",
      "display_name": "Python 3"
    },
    "language_info": {
      "name": "python"
    }
  },
  "cells": [
    {
      "cell_type": "code",
      "execution_count": null,
      "metadata": {
        "id": "VhyZAecuZmjK"
      },
      "outputs": [],
      "source": [
        "import pandas as pd\n",
        "import numpy as np\n",
        "import matplotlib.pyplot as plt\n",
        "from sklearn.cluster import KMeans\n",
        "%matplotlib inline"
      ]
    },
    {
      "cell_type": "code",
      "source": [
        "X = -2 * np.random.rand(100,2)\n",
        "X1 = 1 + 2 * np.random.rand(50,2)\n",
        "X[50:100, :] = X1\n"
      ],
      "metadata": {
        "id": "L5hTZyN8Zzmj"
      },
      "execution_count": null,
      "outputs": []
    },
    {
      "cell_type": "code",
      "source": [
        "print(X.shape)\n",
        "print(X1.shape)"
      ],
      "metadata": {
        "colab": {
          "base_uri": "https://localhost:8080/"
        },
        "id": "6rgOxyxPZ_YJ",
        "outputId": "ba0bf4eb-5648-4b85-94c4-0e268fee8a06"
      },
      "execution_count": null,
      "outputs": [
        {
          "output_type": "stream",
          "name": "stdout",
          "text": [
            "(100, 2)\n",
            "(50, 2)\n"
          ]
        }
      ]
    },
    {
      "cell_type": "code",
      "source": [
        "type(X)"
      ],
      "metadata": {
        "colab": {
          "base_uri": "https://localhost:8080/"
        },
        "id": "-IaRM9K9aTJb",
        "outputId": "a2ca458f-4b04-4693-fd66-e006f0abacb8"
      },
      "execution_count": null,
      "outputs": [
        {
          "output_type": "execute_result",
          "data": {
            "text/plain": [
              "numpy.ndarray"
            ]
          },
          "metadata": {},
          "execution_count": 4
        }
      ]
    },
    {
      "cell_type": "code",
      "source": [
        "X"
      ],
      "metadata": {
        "colab": {
          "base_uri": "https://localhost:8080/"
        },
        "id": "igoSgrVmaZ35",
        "outputId": "bfe170c6-1ed5-43da-b09c-6825bf38dd3d"
      },
      "execution_count": null,
      "outputs": [
        {
          "output_type": "execute_result",
          "data": {
            "text/plain": [
              "array([[-0.47947253, -1.30204972],\n",
              "       [-1.84242971, -1.21168056],\n",
              "       [-1.86031229, -0.59931738],\n",
              "       [-0.66434267, -1.55763779],\n",
              "       [-1.98948146, -1.49517532],\n",
              "       [-0.89219182, -1.76747677],\n",
              "       [-1.33539145, -0.86340911],\n",
              "       [-1.92467283, -0.95984468],\n",
              "       [-1.86879879, -0.09025002],\n",
              "       [-1.33837835, -0.7563615 ],\n",
              "       [-0.09484352, -0.02475052],\n",
              "       [-0.25737003, -0.40015795],\n",
              "       [-0.92421519, -1.00945764],\n",
              "       [-1.834634  , -0.80695337],\n",
              "       [-1.75006479, -1.83770852],\n",
              "       [-0.33829805, -0.84404976],\n",
              "       [-0.85186727, -0.49057567],\n",
              "       [-0.74306621, -0.96038321],\n",
              "       [-1.2265624 , -0.74194483],\n",
              "       [-0.71664158, -0.20549753],\n",
              "       [-0.65178096, -1.0877905 ],\n",
              "       [-1.47261758, -0.28107131],\n",
              "       [-0.16466952, -0.56300639],\n",
              "       [-0.40971052, -1.74352722],\n",
              "       [-1.91657628, -0.12827523],\n",
              "       [-0.90200354, -0.88469203],\n",
              "       [-1.1844665 , -0.29518748],\n",
              "       [-0.96876293, -1.78863988],\n",
              "       [-0.32542604, -1.46846692],\n",
              "       [-0.35530612, -0.92990007],\n",
              "       [-1.61108263, -1.33406821],\n",
              "       [-1.9502161 , -1.66397549],\n",
              "       [-1.86796403, -1.84044606],\n",
              "       [-1.1124593 , -0.17983055],\n",
              "       [-1.6727765 , -0.50113146],\n",
              "       [-1.0536206 , -0.61202111],\n",
              "       [-0.54780071, -1.46504555],\n",
              "       [-0.96773782, -0.63655509],\n",
              "       [-0.27574042, -1.90608839],\n",
              "       [-0.57343341, -0.16202662],\n",
              "       [-1.70951858, -0.09894956],\n",
              "       [-0.46543025, -0.03948729],\n",
              "       [-1.52221343, -0.23901656],\n",
              "       [-1.38207468, -1.11069107],\n",
              "       [-1.62042864, -1.78261519],\n",
              "       [-1.78529834, -0.42081389],\n",
              "       [-1.88673786, -0.27349805],\n",
              "       [-1.24010435, -1.31436481],\n",
              "       [-0.3876349 , -1.90807285],\n",
              "       [-1.11647923, -1.7019395 ],\n",
              "       [ 1.74003245,  1.69962657],\n",
              "       [ 1.17969968,  2.61395151],\n",
              "       [ 1.41059558,  1.3430773 ],\n",
              "       [ 2.11571726,  1.41701235],\n",
              "       [ 2.6559568 ,  1.65827472],\n",
              "       [ 1.91530286,  2.09894933],\n",
              "       [ 2.04923896,  2.57959713],\n",
              "       [ 1.92962256,  2.08007998],\n",
              "       [ 2.44134279,  2.25910263],\n",
              "       [ 1.90698058,  1.11108515],\n",
              "       [ 2.47395806,  2.88808286],\n",
              "       [ 1.60724018,  2.80613396],\n",
              "       [ 2.65552146,  1.14011757],\n",
              "       [ 1.99386912,  2.31985339],\n",
              "       [ 2.22182169,  2.33291912],\n",
              "       [ 2.4327943 ,  2.88874347],\n",
              "       [ 1.11853695,  2.01246981],\n",
              "       [ 1.26907987,  1.60520486],\n",
              "       [ 2.42726257,  1.12992522],\n",
              "       [ 1.0448418 ,  2.40357089],\n",
              "       [ 2.81294294,  1.5663721 ],\n",
              "       [ 2.7602478 ,  2.3633475 ],\n",
              "       [ 1.72061208,  2.00805394],\n",
              "       [ 1.99758906,  1.86354492],\n",
              "       [ 2.9532011 ,  1.15613619],\n",
              "       [ 1.82858413,  2.59174229],\n",
              "       [ 2.94966183,  1.16694729],\n",
              "       [ 1.23800023,  2.19560988],\n",
              "       [ 2.655253  ,  2.54758936],\n",
              "       [ 1.67952824,  1.31948506],\n",
              "       [ 2.17336761,  1.71832837],\n",
              "       [ 1.7787887 ,  2.36742439],\n",
              "       [ 1.21359818,  2.41447156],\n",
              "       [ 2.68325156,  1.76464991],\n",
              "       [ 2.19055285,  1.35464116],\n",
              "       [ 2.3959495 ,  2.82098191],\n",
              "       [ 1.2898634 ,  1.95165349],\n",
              "       [ 2.3551323 ,  2.60109682],\n",
              "       [ 1.60005658,  1.20742987],\n",
              "       [ 1.38143671,  2.40252147],\n",
              "       [ 2.69773123,  1.3043465 ],\n",
              "       [ 2.13055324,  2.26616903],\n",
              "       [ 2.0572984 ,  1.50141164],\n",
              "       [ 2.08462356,  1.73797843],\n",
              "       [ 1.48667043,  2.99388532],\n",
              "       [ 1.31175602,  1.49734044],\n",
              "       [ 2.58018386,  1.34064105],\n",
              "       [ 2.7198374 ,  2.5050047 ],\n",
              "       [ 1.70540497,  1.09473355],\n",
              "       [ 1.99618447,  2.75480473]])"
            ]
          },
          "metadata": {},
          "execution_count": 7
        }
      ]
    },
    {
      "cell_type": "code",
      "source": [
        "X1"
      ],
      "metadata": {
        "colab": {
          "base_uri": "https://localhost:8080/"
        },
        "id": "9YESvIn_a6cW",
        "outputId": "000d2c42-96c1-43df-e627-bcc4bdc31eec"
      },
      "execution_count": null,
      "outputs": [
        {
          "output_type": "execute_result",
          "data": {
            "text/plain": [
              "array([[1.74003245, 1.69962657],\n",
              "       [1.17969968, 2.61395151],\n",
              "       [1.41059558, 1.3430773 ],\n",
              "       [2.11571726, 1.41701235],\n",
              "       [2.6559568 , 1.65827472],\n",
              "       [1.91530286, 2.09894933],\n",
              "       [2.04923896, 2.57959713],\n",
              "       [1.92962256, 2.08007998],\n",
              "       [2.44134279, 2.25910263],\n",
              "       [1.90698058, 1.11108515],\n",
              "       [2.47395806, 2.88808286],\n",
              "       [1.60724018, 2.80613396],\n",
              "       [2.65552146, 1.14011757],\n",
              "       [1.99386912, 2.31985339],\n",
              "       [2.22182169, 2.33291912],\n",
              "       [2.4327943 , 2.88874347],\n",
              "       [1.11853695, 2.01246981],\n",
              "       [1.26907987, 1.60520486],\n",
              "       [2.42726257, 1.12992522],\n",
              "       [1.0448418 , 2.40357089],\n",
              "       [2.81294294, 1.5663721 ],\n",
              "       [2.7602478 , 2.3633475 ],\n",
              "       [1.72061208, 2.00805394],\n",
              "       [1.99758906, 1.86354492],\n",
              "       [2.9532011 , 1.15613619],\n",
              "       [1.82858413, 2.59174229],\n",
              "       [2.94966183, 1.16694729],\n",
              "       [1.23800023, 2.19560988],\n",
              "       [2.655253  , 2.54758936],\n",
              "       [1.67952824, 1.31948506],\n",
              "       [2.17336761, 1.71832837],\n",
              "       [1.7787887 , 2.36742439],\n",
              "       [1.21359818, 2.41447156],\n",
              "       [2.68325156, 1.76464991],\n",
              "       [2.19055285, 1.35464116],\n",
              "       [2.3959495 , 2.82098191],\n",
              "       [1.2898634 , 1.95165349],\n",
              "       [2.3551323 , 2.60109682],\n",
              "       [1.60005658, 1.20742987],\n",
              "       [1.38143671, 2.40252147],\n",
              "       [2.69773123, 1.3043465 ],\n",
              "       [2.13055324, 2.26616903],\n",
              "       [2.0572984 , 1.50141164],\n",
              "       [2.08462356, 1.73797843],\n",
              "       [1.48667043, 2.99388532],\n",
              "       [1.31175602, 1.49734044],\n",
              "       [2.58018386, 1.34064105],\n",
              "       [2.7198374 , 2.5050047 ],\n",
              "       [1.70540497, 1.09473355],\n",
              "       [1.99618447, 2.75480473]])"
            ]
          },
          "metadata": {},
          "execution_count": 8
        }
      ]
    },
    {
      "cell_type": "code",
      "source": [
        "plt.scatter(X[ : , 0], X[ :, 1], s = 50, c = 'b')\n",
        "plt.show()"
      ],
      "metadata": {
        "colab": {
          "base_uri": "https://localhost:8080/",
          "height": 265
        },
        "id": "WWAjH0l8Z9Y3",
        "outputId": "348e1c7d-d53d-4c1a-dc6c-b8b6ce6ec719"
      },
      "execution_count": null,
      "outputs": [
        {
          "output_type": "display_data",
          "data": {
            "image/png": "[encoded data removed]",
            "text/plain": [
              "<Figure size 432x288 with 1 Axes>"
            ]
          },
          "metadata": {
            "needs_background": "light"
          }
        }
      ]
    },
    {
      "cell_type": "code",
      "source": [
        "Kmean = KMeans(n_clusters=2)\n",
        "Kmean.fit(X)"
      ],
      "metadata": {
        "colab": {
          "base_uri": "https://localhost:8080/"
        },
        "id": "FdAwJUB4bCNl",
        "outputId": "d1b7c2c9-1e01-409c-9d45-82fac20b161c"
      },
      "execution_count": null,
      "outputs": [
        {
          "output_type": "execute_result",
          "data": {
            "text/plain": [
              "KMeans(n_clusters=2)"
            ]
          },
          "metadata": {},
          "execution_count": 9
        }
      ]
    },
    {
      "cell_type": "code",
      "source": [
        "Kmean.cluster_centers_"
      ],
      "metadata": {
        "colab": {
          "base_uri": "https://localhost:8080/"
        },
        "id": "hFY0qbFubi-g",
        "outputId": "8321f647-b25b-4572-875b-42f303dfc143"
      },
      "execution_count": null,
      "outputs": [
        {
          "output_type": "execute_result",
          "data": {
            "text/plain": [
              "array([[ 2.02034554,  1.97532241],\n",
              "       [-1.12066213, -0.92571752]])"
            ]
          },
          "metadata": {},
          "execution_count": 10
        }
      ]
    },
    {
      "cell_type": "code",
      "source": [
        "plt.scatter(X[ : , 0], X[ : , 1], s =50, c='b')\n",
        "plt.scatter(2.02034554,  1.97532241, s=200, c='g', marker='s')\n",
        "plt.scatter(-1.12066213, -0.92571752, s=200, c='r', marker='s')\n",
        "plt.show()"
      ],
      "metadata": {
        "colab": {
          "base_uri": "https://localhost:8080/",
          "height": 265
        },
        "id": "BUa3Mnayb2Ut",
        "outputId": "feb3d6a3-8fbb-4e1b-fedf-9edade53be3d"
      },
      "execution_count": null,
      "outputs": [
        {
          "output_type": "display_data",
          "data": {
            "image/png": "[encoded data removed]",
            "text/plain": [
              "<Figure size 432x288 with 1 Axes>"
            ]
          },
          "metadata": {
            "needs_background": "light"
          }
        }
      ]
    }
  ]
}