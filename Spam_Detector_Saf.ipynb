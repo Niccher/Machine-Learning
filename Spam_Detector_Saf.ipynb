{
  "nbformat": 4,
  "nbformat_minor": 0,
  "metadata": {
    "colab": {
      "name": "Spam_Detector_Saf.ipynb",
      "provenance": []
    },
    "kernelspec": {
      "name": "python3",
      "display_name": "Python 3"
    },
    "language_info": {
      "name": "python"
    }
  },
  "cells": [
    {
      "cell_type": "code",
      "execution_count": null,
      "metadata": {
        "id": "KUMH50YGcfbE"
      },
      "outputs": [],
      "source": [
        "import numpy as np\n",
        "import pandas as pd \n",
        "\n",
        "from sklearn.linear_model import LogisticRegression\n",
        "from sklearn.tree import DecisionTreeClassifier\n",
        "from sklearn.naive_bayes import MultinomialNB\n",
        "\n",
        "from sklearn.svm import LinearSVC\n",
        "from sklearn.pipeline import make_pipeline\n",
        "from sklearn.preprocessing import StandardScaler\n",
        "from sklearn.datasets import make_classification\n",
        "\n",
        "from sklearn.feature_extraction.text import TfidfVectorizer\n",
        "\n",
        "from sklearn.model_selection import train_test_split\n",
        "from sklearn import preprocessing\n",
        "from sklearn import metrics"
      ]
    },
    {
      "cell_type": "code",
      "source": [
        "from google.colab import drive\n",
        "drive.mount('/content/drive')\n"
      ],
      "metadata": {
        "colab": {
          "base_uri": "https://localhost:8080/"
        },
        "id": "3XRI79VUcz9I",
        "outputId": "35041b44-ad4a-41cc-9147-40a8c88012e3"
      },
      "execution_count": null,
      "outputs": [
        {
          "output_type": "stream",
          "name": "stdout",
          "text": [
            "Drive already mounted at /content/drive; to attempt to forcibly remount, call drive.mount(\"/content/drive\", force_remount=True).\n"
          ]
        }
      ]
    },
    {
      "cell_type": "code",
      "source": [
        "data = pd.read_csv('/content/drive/MyDrive/Datasets/spam.csv', encoding='latin-1')\n",
        "data.head(n=10)\n",
        "X = data.iloc[:, 1]\n",
        "y = data.iloc[:, 0]\n"
      ],
      "metadata": {
        "id": "Tx0dyv7vdxTs"
      },
      "execution_count": null,
      "outputs": []
    },
    {
      "cell_type": "code",
      "source": [
        "def spam_detector(X, y):\n",
        "\n",
        "  #Vectorize string to numbers\n",
        "  vectorizer = TfidfVectorizer(min_df=2, ngram_range=(1,2), analyzer='word')\n",
        "  x_data = vectorizer.fit_transform(X)\n",
        "\n",
        "  #Label is one hot encoded\n",
        "  label_encoder = preprocessing.LabelEncoder()\n",
        "  y_data = label_encoder.fit_transform(y) \n",
        "\n",
        "  #Initialize Models\n",
        "  mod_logistic = LogisticRegression(random_state=0)\n",
        "  mod_decision = DecisionTreeClassifier(random_state=0)\n",
        "  #mod_svm      = svm.SVC(kernel='linear', C = 1.0)\n",
        "  mod_svm = make_pipeline(StandardScaler(with_mean=False),LinearSVC(random_state=0, tol=1e-5))\n",
        "  mod_naives   = MultinomialNB()\n",
        "\n",
        "  #Train Models\n",
        "  X_train,X_test,y_train,y_test = train_test_split(x_data ,y_data ,test_size=0.2)\n",
        "  mod_logistic.fit(X_train, y_train)\n",
        "  mod_decision.fit(X_train, y_train)\n",
        "  mod_naives.fit(X_train, y_train)\n",
        "  \n",
        "  X_train, y_train = make_classification(n_features=14976, random_state=0)\n",
        "  mod_svm.fit(X_train, y_train)\n",
        "\n",
        "  #Predict\n",
        "  mod_logistic_pred = mod_logistic.predict(X_test)\n",
        "  mod_naives_pred = mod_naives.predict(X_test)\n",
        "  mod_svm_pred = mod_svm.predict(X_test)\n",
        "  mod_decision_pred = mod_decision.predict(X_test)\n",
        "\n",
        "  #Show Accuracy metrics\n",
        "  print(\"Accuracy mod_logistic : \",metrics.accuracy_score(y_test, mod_logistic_pred))\n",
        "  print(\"Accuracy mod_decision : \",metrics.accuracy_score(y_test, mod_decision_pred))\n",
        "  print(\"Accuracy mod_svm      : \",metrics.accuracy_score(y_test, mod_svm_pred))\n",
        "  print(\"Accuracy mod_naives   : \",metrics.accuracy_score(y_test, mod_decision_pred))\n"
      ],
      "metadata": {
        "id": "i9sPAiq2ckLw"
      },
      "execution_count": null,
      "outputs": []
    },
    {
      "cell_type": "code",
      "source": [
        "spam_detector(X, y)"
      ],
      "metadata": {
        "colab": {
          "base_uri": "https://localhost:8080/"
        },
        "id": "xxuhJ6kci7zQ",
        "outputId": "dfe2d785-4fd0-4e6f-f16e-133591a1a893"
      },
      "execution_count": null,
      "outputs": [
        {
          "output_type": "stream",
          "name": "stdout",
          "text": [
            "Accuracy mod_logistic :  0.957847533632287\n",
            "Accuracy mod_decision :  0.9668161434977578\n",
            "Accuracy mod_svm      :  0.3865470852017937\n",
            "Accuracy mod_naives   :  0.9668161434977578\n"
          ]
        }
      ]
    }
  ]
}