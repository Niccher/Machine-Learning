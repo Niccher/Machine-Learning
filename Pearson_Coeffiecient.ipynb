{
  "nbformat": 4,
  "nbformat_minor": 0,
  "metadata": {
    "colab": {
      "name": "Pearson Coeffiecient.ipynb",
      "provenance": []
    },
    "kernelspec": {
      "name": "python3",
      "display_name": "Python 3"
    },
    "language_info": {
      "name": "python"
    }
  },
  "cells": [
    {
      "cell_type": "code",
      "execution_count": null,
      "metadata": {
        "id": "gNRm9NRxZRtY"
      },
      "outputs": [],
      "source": [
        "from numpy import mean\n",
        "from numpy import std\n",
        "from numpy.random import randn\n",
        "from numpy.random import seed"
      ]
    },
    {
      "cell_type": "code",
      "source": [
        "data1 = [15,12,8,8,7,7,7,6,5,3]\n",
        "data2 = [10,25,17,11,13,17,20,13,9,15]"
      ],
      "metadata": {
        "id": "10kJIyP-Zbys"
      },
      "execution_count": null,
      "outputs": []
    },
    {
      "cell_type": "code",
      "source": [
        "print('data1: mean=%.3f stdv=%.3f' % (mean(data1), std(data1)))\n",
        "print('data2: mean=%.3f stdv=%.3f' % (mean(data2), std(data2)))"
      ],
      "metadata": {
        "colab": {
          "base_uri": "https://localhost:8080/"
        },
        "id": "Vv831rV_ZhSQ",
        "outputId": "39fd270f-6ea2-420e-a2ac-6d23db49dcca"
      },
      "execution_count": null,
      "outputs": [
        {
          "output_type": "stream",
          "name": "stdout",
          "text": [
            "data1: mean=7.800 stdv=3.250\n",
            "data2: mean=15.000 stdv=4.669\n"
          ]
        }
      ]
    },
    {
      "cell_type": "markdown",
      "source": [
        "Spearman's correlation coefficient = covariance(rank(X), rank(Y)) / (stdv(rank(X)) * stdv(rank(Y)))"
      ],
      "metadata": {
        "id": "pUQGtHcdaGlw"
      }
    },
    {
      "cell_type": "code",
      "source": [
        "from scipy.stats import spearmanr\n",
        "from scipy.stats import pearsonr\n",
        "import numpy as np"
      ],
      "metadata": {
        "id": "bSr5ejUNaTPI"
      },
      "execution_count": null,
      "outputs": []
    },
    {
      "cell_type": "code",
      "source": [
        "spear, _ = spearmanr(data1, data2)\n",
        "karl, y = pearsonr(data1, data2)\n",
        "cor = np.corrcoef(data1, data2)\n",
        "print('Scipy spearman correlation: %.3f' % spear)\n",
        "print('Scipy pearsonr correlation: %.3f' % karl)\n",
        "print('Numpy correlation: ', cor)"
      ],
      "metadata": {
        "colab": {
          "base_uri": "https://localhost:8080/"
        },
        "id": "jMB3LFs7Z7bs",
        "outputId": "3bff0791-320a-4af2-eb6e-c8161ec2b5bd"
      },
      "execution_count": null,
      "outputs": [
        {
          "output_type": "stream",
          "name": "stdout",
          "text": [
            "Scipy spearman correlation: 0.158\n",
            "Scipy pearsonr correlation: 0.145\n",
            "Numpy correlation:  [[1.         0.14499815]\n",
            " [0.14499815 1.        ]]\n"
          ]
        }
      ]
    }
  ]
}