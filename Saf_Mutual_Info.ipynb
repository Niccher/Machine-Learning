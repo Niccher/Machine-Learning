{
  "nbformat": 4,
  "nbformat_minor": 0,
  "metadata": {
    "colab": {
      "name": "Saf Mutual Info.ipynb",
      "provenance": []
    },
    "kernelspec": {
      "name": "python3",
      "display_name": "Python 3"
    },
    "language_info": {
      "name": "python"
    }
  },
  "cells": [
    {
      "cell_type": "code",
      "execution_count": null,
      "metadata": {
        "id": "SfrmJtVwj9zQ"
      },
      "outputs": [],
      "source": [
        "import numpy\n",
        "\n",
        "def mutual_information(X, Y, bins=10):\n",
        "    #Joint probability distribution p(x,y)Calculation\n",
        "    p_xy, xedges, yedges = np.histogram2d(X, Y, bins=bins, density=True)\n",
        "    \n",
        "    # p(x)p(y)Calculation\n",
        "    p_x, _ = np.histogram(X, bins=xedges, density=True)\n",
        "    p_y, _ = np.histogram(Y, bins=yedges, density=True)\n",
        "    p_x_y = p_x[:, np.newaxis] * p_y\n",
        "    \n",
        "    #dx and dy\n",
        "    dx = xedges[1] - xedges[0]\n",
        "    dy = yedges[1] - yedges[0]\n",
        "    \n",
        "    #Integral element\n",
        "    elem = p_xy * np.ma.log(p_xy / p_x_y)\n",
        "    #Mutual information and p(x, y), p(x)p(y)Output\n",
        "    return np.sum(elem * dx * dy), p_xy, p_x_y"
      ]
    }
  ]
}